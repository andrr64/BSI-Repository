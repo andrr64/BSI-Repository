{
  "nbformat": 4,
  "nbformat_minor": 0,
  "metadata": {
    "colab": {
      "provenance": [],
      "authorship_tag": "ABX9TyOyvDB/8m8IgFyPrG4fIAG+",
      "include_colab_link": true
    },
    "kernelspec": {
      "name": "python3",
      "display_name": "Python 3"
    },
    "language_info": {
      "name": "python"
    }
  },
  "cells": [
    {
      "cell_type": "markdown",
      "metadata": {
        "id": "view-in-github",
        "colab_type": "text"
      },
      "source": [
        "<a href=\"https://colab.research.google.com/github/andrr64/BSI-Repository/blob/master/Pengolahan_Citra_4.ipynb\" target=\"_parent\"><img src=\"https://colab.research.google.com/assets/colab-badge.svg\" alt=\"Open In Colab\"/></a>"
      ]
    },
    {
      "cell_type": "code",
      "execution_count": 1,
      "metadata": {
        "id": "MxP8AzUrPH_m"
      },
      "outputs": [],
      "source": [
        "import cv2\n",
        "import numpy as np\n",
        "from scipy import signal\n",
        "from matplotlib import pyplot as plt"
      ]
    },
    {
      "cell_type": "code",
      "source": [
        "imgc = cv2.imread('kucing.jpeg')\n",
        "img = cv2.cvtColor(imgc, cv2.COLOR_BGR2GRAY)"
      ],
      "metadata": {
        "id": "L8gMaOMEPUH0"
      },
      "execution_count": 2,
      "outputs": []
    },
    {
      "cell_type": "code",
      "source": [
        "kernel = np.array(\n",
        "    [\n",
        "        [0,-1,0],\n",
        "    [-1, 5, -1],\n",
        "    [0,-1,0],\n",
        "    ]\n",
        ")"
      ],
      "metadata": {
        "id": "dx_okkzEP8EU"
      },
      "execution_count": null,
      "outputs": []
    }
  ]
}