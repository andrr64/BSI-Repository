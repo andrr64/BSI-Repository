{
 "cells": [
  {
   "cell_type": "code",
   "execution_count": 23,
   "metadata": {},
   "outputs": [],
   "source": [
    "def sumProcess1(arr1_2d, arr2_2d, processNumWhat: None):\n",
    "    result = 0\n",
    "    operationString = \"\"\n",
    "    for rowIndex in range(len(arr1_2d)):\n",
    "        for colIndex in range(len(arr1_2d[rowIndex])):\n",
    "            x = arr1_2d[rowIndex][colIndex]\n",
    "            y = arr2_2d[rowIndex][colIndex]\n",
    "            result += (x * y)\n",
    "            operationString += f\"({x}*{y})+\"\n",
    "    operationString = f\"Proses ke-{processNumWhat}: {operationString[:-1]} = {result}\"\n",
    "    print(operationString)\n",
    "    return result\n",
    "\n",
    "def sumProcess2(arr1_2d, kernel, arr1_col, arr1_row):\n",
    "    kernelRowLength = len(kernel)\n",
    "    kernelColLength = len(kernel[0])\n",
    "\n",
    "    selectedData = arr1_2d[arr1_row:(arr1_row + kernelRowLength)]\n",
    "    finalResult = []\n",
    "    for listData in selectedData:\n",
    "        finalResult.append(listData[arr1_col:arr1_col+kernelColLength])\n",
    "    return finalResult\n",
    "\n",
    "\n",
    "def sumProcess3(arr1, kernel):\n",
    "    arr1ColLength = len(arr1[0])\n",
    "    arr1RowLength = len(arr1)\n",
    "\n",
    "    kernelColLength = len(kernel[0])\n",
    "    kernelRowLength = len(kernel)\n",
    "\n",
    "    currentArrRow = 0\n",
    "    currentArrCol = 0\n",
    "\n",
    "\n",
    "    processNumberWhat = 1\n",
    "    rowDelta = arr1RowLength - kernelRowLength + 1\n",
    "    colDelta = arr1ColLength - kernelColLength + 1\n",
    "    result = []\n",
    "    for i in range(rowDelta):\n",
    "        rowResult = []\n",
    "        for j in range(colDelta):\n",
    "            selectedMatrix = sumProcess2(arr1, kernel, arr1_col=currentArrCol, arr1_row=currentArrRow)\n",
    "            rowResult.append(sumProcess1(selectedMatrix, kernel, processNumberWhat))\n",
    "            processNumberWhat+=1\n",
    "            currentArrCol += 1\n",
    "        result.append(rowResult)\n",
    "        currentArrCol = 0\n",
    "        currentArrRow += 1\n",
    "    return result"
   ]
  },
  {
   "cell_type": "code",
   "execution_count": 33,
   "metadata": {},
   "outputs": [
    {
     "name": "stdout",
     "output_type": "stream",
     "text": [
      "Proses ke-1: (16*0)+(16*-1)+(16*0)+(9*-1)+(9*4)+(9*-1)+(8*0)+(8*-1)+(8*0) = -6\n",
      "Proses ke-2: (16*0)+(16*-1)+(16*0)+(9*-1)+(9*4)+(9*-1)+(8*0)+(8*-1)+(8*0) = -6\n",
      "Proses ke-3: (16*0)+(16*-1)+(16*0)+(9*-1)+(9*4)+(9*-1)+(8*0)+(8*-1)+(17*0) = -6\n",
      "Proses ke-4: (16*0)+(16*-1)+(4*0)+(9*-1)+(9*4)+(9*-1)+(8*0)+(17*-1)+(7*0) = -15\n",
      "Proses ke-5: (16*0)+(4*-1)+(10*0)+(9*-1)+(9*4)+(3*-1)+(17*0)+(7*-1)+(7*0) = 13\n",
      "Proses ke-6: (9*0)+(9*-1)+(9*0)+(8*-1)+(8*4)+(8*-1)+(4*0)+(4*-1)+(4*0) = 3\n",
      "Proses ke-7: (9*0)+(9*-1)+(9*0)+(8*-1)+(8*4)+(8*-1)+(4*0)+(4*-1)+(4*0) = 3\n",
      "Proses ke-8: (9*0)+(9*-1)+(9*0)+(8*-1)+(8*4)+(17*-1)+(4*0)+(4*-1)+(4*0) = -6\n",
      "Proses ke-9: (9*0)+(9*-1)+(9*0)+(8*-1)+(17*4)+(7*-1)+(4*0)+(4*-1)+(4*0) = 40\n",
      "Proses ke-10: (9*0)+(9*-1)+(3*0)+(17*-1)+(7*4)+(7*-1)+(4*0)+(4*-1)+(4*0) = -9\n",
      "Proses ke-11: (8*0)+(8*-1)+(8*0)+(4*-1)+(4*4)+(4*-1)+(2*0)+(2*-1)+(2*0) = -2\n",
      "Proses ke-12: (8*0)+(8*-1)+(8*0)+(4*-1)+(4*4)+(4*-1)+(2*0)+(2*-1)+(0*0) = -2\n",
      "Proses ke-13: (8*0)+(8*-1)+(17*0)+(4*-1)+(4*4)+(4*-1)+(2*0)+(0*-1)+(0*0) = 0\n",
      "Proses ke-14: (8*0)+(17*-1)+(7*0)+(4*-1)+(4*4)+(4*-1)+(0*0)+(0*-1)+(0*0) = -9\n",
      "Proses ke-15: (17*0)+(7*-1)+(7*0)+(4*-1)+(4*4)+(4*-1)+(0*0)+(0*-1)+(5*0) = 1\n",
      "Proses ke-16: (4*0)+(4*-1)+(4*0)+(2*-1)+(2*4)+(2*-1)+(3*0)+(3*-1)+(3*0) = -3\n",
      "Proses ke-17: (4*0)+(4*-1)+(4*0)+(2*-1)+(2*4)+(0*-1)+(3*0)+(3*-1)+(0*0) = -1\n",
      "Proses ke-18: (4*0)+(4*-1)+(4*0)+(2*-1)+(0*4)+(0*-1)+(3*0)+(0*-1)+(0*0) = -6\n",
      "Proses ke-19: (4*0)+(4*-1)+(4*0)+(0*-1)+(0*4)+(0*-1)+(0*0)+(0*-1)+(7*0) = -4\n",
      "Proses ke-20: (4*0)+(4*-1)+(4*0)+(0*-1)+(0*4)+(5*-1)+(0*0)+(7*-1)+(7*0) = -16\n",
      "Proses ke-21: (2*0)+(2*-1)+(2*0)+(3*-1)+(3*4)+(3*-1)+(15*0)+(4*-1)+(4*0) = 0\n",
      "Proses ke-22: (2*0)+(2*-1)+(0*0)+(3*-1)+(3*4)+(0*-1)+(4*0)+(4*-1)+(4*0) = 3\n",
      "Proses ke-23: (2*0)+(0*-1)+(0*0)+(3*-1)+(0*4)+(0*-1)+(4*0)+(4*-1)+(4*0) = -7\n",
      "Proses ke-24: (0*0)+(0*-1)+(0*0)+(0*-1)+(0*4)+(7*-1)+(4*0)+(4*-1)+(4*0) = -11\n",
      "Proses ke-25: (0*0)+(0*-1)+(5*0)+(0*-1)+(7*4)+(7*-1)+(4*0)+(4*-1)+(4*0) = 17\n",
      "[-6, -6, -6, -15, 13]\n",
      "[3, 3, -6, 40, -9]\n",
      "[-2, -2, 0, -9, 1]\n",
      "[-3, -1, -6, -4, -16]\n",
      "[0, 3, -7, -11, 17]\n"
     ]
    }
   ],
   "source": [
    "arr1 = [\n",
    "    [16,16,16,16,16,4,10],\n",
    "    [9,9,9,9,9,9,3],\n",
    "    [8,8,8,8,17,7,7],\n",
    "    [4,4,4,4,4,4,4],\n",
    "    [2,2,2,0,0,0,5],\n",
    "    [3,3,3,0,0,7,7],\n",
    "    [15,4,4,4,4,4,4]\n",
    "]\n",
    "\n",
    "kernel = [\n",
    "    [0,-1,0],\n",
    "    [-1,4,-1],\n",
    "    [0,-1,0]\n",
    "]\n",
    "\n",
    "for data in sumProcess3(arr1, kernel):\n",
    "    print(data)"
   ]
  },
  {
   "cell_type": "code",
   "execution_count": 32,
   "metadata": {},
   "outputs": [
    {
     "name": "stdout",
     "output_type": "stream",
     "text": [
      "Proses ke-1: (4*0)+(4*-1)+(3*0)+(6*-1)+(6*4)+(5*-1)+(5*0)+(6*-1)+(6*0) = 3\n",
      "Proses ke-2: (4*0)+(3*-1)+(5*0)+(6*-1)+(5*4)+(5*-1)+(6*0)+(6*-1)+(6*0) = 0\n",
      "Proses ke-3: (3*0)+(5*-1)+(4*0)+(5*-1)+(5*4)+(2*-1)+(6*0)+(6*-1)+(2*0) = 2\n",
      "Proses ke-4: (6*0)+(6*-1)+(5*0)+(5*-1)+(6*4)+(6*-1)+(6*0)+(7*-1)+(5*0) = 0\n",
      "Proses ke-5: (6*0)+(5*-1)+(5*0)+(6*-1)+(6*4)+(6*-1)+(7*0)+(5*-1)+(5*0) = 2\n",
      "Proses ke-6: (5*0)+(5*-1)+(2*0)+(6*-1)+(6*4)+(2*-1)+(5*0)+(5*-1)+(3*0) = 6\n",
      "Proses ke-7: (5*0)+(6*-1)+(6*0)+(6*-1)+(7*4)+(5*-1)+(3*0)+(5*-1)+(2*0) = 6\n",
      "Proses ke-8: (6*0)+(6*-1)+(6*0)+(7*-1)+(5*4)+(5*-1)+(5*0)+(2*-1)+(4*0) = 0\n",
      "Proses ke-9: (6*0)+(6*-1)+(2*0)+(5*-1)+(5*4)+(3*-1)+(2*0)+(4*-1)+(4*0) = 2\n"
     ]
    },
    {
     "data": {
      "text/plain": [
       "[[3, 0, 2], [0, 2, 6], [6, 0, 2]]"
      ]
     },
     "execution_count": 32,
     "metadata": {},
     "output_type": "execute_result"
    }
   ],
   "source": [
    "data1 = [\n",
    "    [4,4,3,5,4],\n",
    "    [6,6,5,5,2],\n",
    "    [5,6,6,6,2],\n",
    "    [6,7,5,5,3],\n",
    "    [3,5,2,4,4]\n",
    "]\n",
    "\n",
    "kernel = [\n",
    "    [0, -1, 0],\n",
    "    [-1, 4, -1],\n",
    "    [0,-1, 0]\n",
    "]\n",
    "sumProcess3(data1, kernel)"
   ]
  },
  {
   "cell_type": "code",
   "execution_count": null,
   "metadata": {},
   "outputs": [],
   "source": []
  }
 ],
 "metadata": {
  "kernelspec": {
   "display_name": "base",
   "language": "python",
   "name": "python3"
  },
  "language_info": {
   "codemirror_mode": {
    "name": "ipython",
    "version": 3
   },
   "file_extension": ".py",
   "mimetype": "text/x-python",
   "name": "python",
   "nbconvert_exporter": "python",
   "pygments_lexer": "ipython3",
   "version": "3.11.7"
  }
 },
 "nbformat": 4,
 "nbformat_minor": 2
}
